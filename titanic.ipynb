{
 "cells": [
  {
   "cell_type": "markdown",
   "metadata": {},
   "source": [
    "# Import"
   ]
  },
  {
   "cell_type": "code",
   "execution_count": 1,
   "metadata": {},
   "outputs": [],
   "source": [
    "import pandas as pd\n",
    "import numpy as np\n",
    "import matplotlib.pyplot as plt\n",
    "import seaborn as sns\n",
    "from sklearn.preprocessing import StandardScaler"
   ]
  },
  {
   "cell_type": "markdown",
   "metadata": {},
   "source": [
    "# Load Data"
   ]
  },
  {
   "cell_type": "code",
   "execution_count": 2,
   "metadata": {},
   "outputs": [],
   "source": [
    "df = pd.read_csv(\"train.csv\")"
   ]
  },
  {
   "cell_type": "code",
   "execution_count": 3,
   "metadata": {},
   "outputs": [
    {
     "data": {
      "text/html": [
       "<div>\n",
       "<style scoped>\n",
       "    .dataframe tbody tr th:only-of-type {\n",
       "        vertical-align: middle;\n",
       "    }\n",
       "\n",
       "    .dataframe tbody tr th {\n",
       "        vertical-align: top;\n",
       "    }\n",
       "\n",
       "    .dataframe thead th {\n",
       "        text-align: right;\n",
       "    }\n",
       "</style>\n",
       "<table border=\"1\" class=\"dataframe\">\n",
       "  <thead>\n",
       "    <tr style=\"text-align: right;\">\n",
       "      <th></th>\n",
       "      <th>PassengerId</th>\n",
       "      <th>Survived</th>\n",
       "      <th>Pclass</th>\n",
       "      <th>Name</th>\n",
       "      <th>Sex</th>\n",
       "      <th>Age</th>\n",
       "      <th>SibSp</th>\n",
       "      <th>Parch</th>\n",
       "      <th>Ticket</th>\n",
       "      <th>Fare</th>\n",
       "      <th>Cabin</th>\n",
       "      <th>Embarked</th>\n",
       "    </tr>\n",
       "  </thead>\n",
       "  <tbody>\n",
       "    <tr>\n",
       "      <th>0</th>\n",
       "      <td>1</td>\n",
       "      <td>0</td>\n",
       "      <td>3</td>\n",
       "      <td>Braund, Mr. Owen Harris</td>\n",
       "      <td>male</td>\n",
       "      <td>22.0</td>\n",
       "      <td>1</td>\n",
       "      <td>0</td>\n",
       "      <td>A/5 21171</td>\n",
       "      <td>7.2500</td>\n",
       "      <td>NaN</td>\n",
       "      <td>S</td>\n",
       "    </tr>\n",
       "    <tr>\n",
       "      <th>1</th>\n",
       "      <td>2</td>\n",
       "      <td>1</td>\n",
       "      <td>1</td>\n",
       "      <td>Cumings, Mrs. John Bradley (Florence Briggs Th...</td>\n",
       "      <td>female</td>\n",
       "      <td>38.0</td>\n",
       "      <td>1</td>\n",
       "      <td>0</td>\n",
       "      <td>PC 17599</td>\n",
       "      <td>71.2833</td>\n",
       "      <td>C85</td>\n",
       "      <td>C</td>\n",
       "    </tr>\n",
       "    <tr>\n",
       "      <th>2</th>\n",
       "      <td>3</td>\n",
       "      <td>1</td>\n",
       "      <td>3</td>\n",
       "      <td>Heikkinen, Miss. Laina</td>\n",
       "      <td>female</td>\n",
       "      <td>26.0</td>\n",
       "      <td>0</td>\n",
       "      <td>0</td>\n",
       "      <td>STON/O2. 3101282</td>\n",
       "      <td>7.9250</td>\n",
       "      <td>NaN</td>\n",
       "      <td>S</td>\n",
       "    </tr>\n",
       "    <tr>\n",
       "      <th>3</th>\n",
       "      <td>4</td>\n",
       "      <td>1</td>\n",
       "      <td>1</td>\n",
       "      <td>Futrelle, Mrs. Jacques Heath (Lily May Peel)</td>\n",
       "      <td>female</td>\n",
       "      <td>35.0</td>\n",
       "      <td>1</td>\n",
       "      <td>0</td>\n",
       "      <td>113803</td>\n",
       "      <td>53.1000</td>\n",
       "      <td>C123</td>\n",
       "      <td>S</td>\n",
       "    </tr>\n",
       "    <tr>\n",
       "      <th>4</th>\n",
       "      <td>5</td>\n",
       "      <td>0</td>\n",
       "      <td>3</td>\n",
       "      <td>Allen, Mr. William Henry</td>\n",
       "      <td>male</td>\n",
       "      <td>35.0</td>\n",
       "      <td>0</td>\n",
       "      <td>0</td>\n",
       "      <td>373450</td>\n",
       "      <td>8.0500</td>\n",
       "      <td>NaN</td>\n",
       "      <td>S</td>\n",
       "    </tr>\n",
       "  </tbody>\n",
       "</table>\n",
       "</div>"
      ],
      "text/plain": [
       "   PassengerId  Survived  Pclass  \\\n",
       "0            1         0       3   \n",
       "1            2         1       1   \n",
       "2            3         1       3   \n",
       "3            4         1       1   \n",
       "4            5         0       3   \n",
       "\n",
       "                                                Name     Sex   Age  SibSp  \\\n",
       "0                            Braund, Mr. Owen Harris    male  22.0      1   \n",
       "1  Cumings, Mrs. John Bradley (Florence Briggs Th...  female  38.0      1   \n",
       "2                             Heikkinen, Miss. Laina  female  26.0      0   \n",
       "3       Futrelle, Mrs. Jacques Heath (Lily May Peel)  female  35.0      1   \n",
       "4                           Allen, Mr. William Henry    male  35.0      0   \n",
       "\n",
       "   Parch            Ticket     Fare Cabin Embarked  \n",
       "0      0         A/5 21171   7.2500   NaN        S  \n",
       "1      0          PC 17599  71.2833   C85        C  \n",
       "2      0  STON/O2. 3101282   7.9250   NaN        S  \n",
       "3      0            113803  53.1000  C123        S  \n",
       "4      0            373450   8.0500   NaN        S  "
      ]
     },
     "execution_count": 3,
     "metadata": {},
     "output_type": "execute_result"
    }
   ],
   "source": [
    "df.head()"
   ]
  },
  {
   "cell_type": "markdown",
   "metadata": {},
   "source": [
    "## Processing"
   ]
  },
  {
   "cell_type": "code",
   "execution_count": 4,
   "metadata": {},
   "outputs": [],
   "source": [
    "def titanic_preparation(df, means_to_use=None, scalers_to_use=None, ohe_columns=None):\n",
    "    ##### BASICS #####\n",
    "    df_processed = df.drop(columns=['PassengerId'])\n",
    "    df_processed['Sex'] = df_processed['Sex'].apply(lambda val: 1 if val == 'male' else 0)\n",
    "    df_processed.drop(columns=[\"Name\"], inplace=True)\n",
    "    \n",
    "    ##### SIMPLE OHE #####\n",
    "    ohe_cols_embarked = pd.get_dummies(df_processed['Embarked'], dummy_na=True, prefix='Embarked')\n",
    "    df_processed = pd.concat([\n",
    "        df_processed.drop(columns=['Embarked']),\n",
    "        ohe_cols_embarked\n",
    "    ], axis=1)\n",
    "    \n",
    "    ##### NAN #####\n",
    "    if means_to_use is not None:\n",
    "        fare_mean = means_to_use[\"Fare\"]\n",
    "        age_mean = means_to_use[\"Age\"]\n",
    "        new_means_to_use = means_to_use\n",
    "    else:\n",
    "        fare_mean = df_processed['Fare'].mean()\n",
    "        age_mean = df_processed['Age'].mean()\n",
    "        new_means_to_use = {\n",
    "            \"Fare\": fare_mean,\n",
    "            \"Age\": age_mean\n",
    "        }\n",
    "        \n",
    "    df_processed['Fare'].fillna(value=fare_mean, inplace=True)\n",
    "    df_processed['Age'].fillna(value=age_mean, inplace=True)\n",
    "    \n",
    "    #### IsChild ####\n",
    "    df_processed['Is_Child'] = df_processed['Age'].apply(lambda age: 0 if age > 18 else 1)\n",
    "    \n",
    "    #### Family ####\n",
    "    df_processed['Family'] = df_processed['SibSp'] + df_processed['Parch'] + 1\n",
    "    \n",
    "    ###### STANDARDIZATION #####\n",
    "    if scalers_to_use is not None:\n",
    "        fare_scaler = scalers_to_use[\"Fare\"]\n",
    "        age_scaler = scalers_to_use[\"Age\"]\n",
    "        new_scalers_to_use = means_to_use\n",
    "    else:\n",
    "        fare_scaler = StandardScaler()\n",
    "        fare_scaler.fit(df_processed['Fare'].values.reshape(-1,1))\n",
    "        age_scaler = StandardScaler()\n",
    "        age_scaler.fit(df_processed['Age'].values.reshape(-1,1))\n",
    "        new_scalers_to_use = {\n",
    "            \"Fare\": fare_scaler,\n",
    "            \"Age\": age_scaler\n",
    "        }\n",
    "        \n",
    "    df_processed['Fare'] = fare_scaler.transform(df_processed['Fare'].values.reshape(-1,1)) \n",
    "    df_processed['Age'] = fare_scaler.transform(df_processed['Age'].values.reshape(-1,1)) \n",
    "    \n",
    "    ##### HARD OHE #####\n",
    "    def complete_other(row):\n",
    "        return 1 if np.sum(row) == 0 else 0 \n",
    "        \n",
    "    ohe_ticket = pd.get_dummies(df_processed['Ticket'], prefix=\"Ticket\", dummy_na=True)\n",
    "    \n",
    "    if ohe_columns is not None:\n",
    "        ohe_ticket_columns_to_keep = ohe_columns[\"Ticket\"]\n",
    "        missing_tickets = [col for col in ohe_ticket_columns_to_keep if col not in ohe_ticket]\n",
    "        for column in missing_tickets:\n",
    "            ohe_ticket[column] = 0\n",
    "    else:\n",
    "        ohe_ticket_columns_to_keep = ohe_ticket.sum().sort_values(ascending=False)[:100].index\n",
    "        \n",
    "    ohe_ticket_final = ohe_ticket[ohe_ticket_columns_to_keep]\n",
    "    ohe_ticket_final[\"Ticket_Other\"] = ohe_ticket_final.apply(complete_other, axis=1)\n",
    "    \n",
    "    df_processed = pd.concat([\n",
    "        df_processed.drop(columns=['Ticket']),\n",
    "        ohe_ticket_final\n",
    "    ], axis=1)\n",
    "    \n",
    "    ohe_cabin = pd.get_dummies(df_processed['Cabin'], prefix=\"Cabin\", dummy_na=True)\n",
    "    if ohe_columns is not None:\n",
    "        ohe_cabin_columns_to_keep = ohe_columns[\"Cabin\"]\n",
    "        missing_cabin = [col for col in ohe_cabin_columns_to_keep if col not in ohe_cabin]\n",
    "        for column in missing_cabin:\n",
    "            ohe_cabin[column] = 0\n",
    "    else:\n",
    "        ohe_cabin_columns_to_keep = ohe_cabin.sum().sort_values(ascending=False)[:100].index\n",
    "    \n",
    "    ohe_cabin_final = ohe_ticket[ohe_ticket_columns_to_keep]\n",
    "    ohe_cabin_final[\"Cabin_Other\"] = ohe_ticket_final.apply(complete_other, axis=1)\n",
    "    df_processed = pd.concat([\n",
    "        df_processed.drop(columns=['Cabin']),\n",
    "        ohe_cabin_final\n",
    "    ], axis=1)\n",
    "    \n",
    "    ohe_columns = {\n",
    "        'Ticket': ohe_ticket_columns_to_keep,\n",
    "        'Cabin': ohe_cabin_columns_to_keep\n",
    "    }\n",
    "    \n",
    "    \n",
    "    \n",
    "    ##### RETRUN #####\n",
    "    return df_processed, new_means_to_use, new_scalers_to_use, ohe_columns"
   ]
  },
  {
   "cell_type": "code",
   "execution_count": 5,
   "metadata": {},
   "outputs": [
    {
     "name": "stderr",
     "output_type": "stream",
     "text": [
      "C:\\Users\\thomas\\AppData\\Local\\Continuum\\anaconda3\\envs\\majeure-ml-env\\lib\\site-packages\\ipykernel_launcher.py:69: SettingWithCopyWarning: \n",
      "A value is trying to be set on a copy of a slice from a DataFrame.\n",
      "Try using .loc[row_indexer,col_indexer] = value instead\n",
      "\n",
      "See the caveats in the documentation: http://pandas.pydata.org/pandas-docs/stable/indexing.html#indexing-view-versus-copy\n",
      "C:\\Users\\thomas\\AppData\\Local\\Continuum\\anaconda3\\envs\\majeure-ml-env\\lib\\site-packages\\ipykernel_launcher.py:86: SettingWithCopyWarning: \n",
      "A value is trying to be set on a copy of a slice from a DataFrame.\n",
      "Try using .loc[row_indexer,col_indexer] = value instead\n",
      "\n",
      "See the caveats in the documentation: http://pandas.pydata.org/pandas-docs/stable/indexing.html#indexing-view-versus-copy\n"
     ]
    }
   ],
   "source": [
    "train_df, means, scalers, ohe_columns = titanic_preparation(df)"
   ]
  },
  {
   "cell_type": "markdown",
   "metadata": {},
   "source": [
    "## Train"
   ]
  },
  {
   "cell_type": "code",
   "execution_count": 6,
   "metadata": {},
   "outputs": [],
   "source": [
    "X1 = train_df.drop(columns=['Survived'])\n",
    "Y1 = train_df['Survived']"
   ]
  },
  {
   "cell_type": "code",
   "execution_count": 7,
   "metadata": {},
   "outputs": [],
   "source": [
    "from sklearn.ensemble import RandomForestClassifier\n",
    "from sklearn.metrics import accuracy_score, f1_score, confusion_matrix\n",
    "from sklearn.model_selection import train_test_split\n",
    "from sklearn.model_selection import cross_val_score"
   ]
  },
  {
   "cell_type": "code",
   "execution_count": 8,
   "metadata": {},
   "outputs": [],
   "source": [
    "model = RandomForestClassifier(n_estimators=343, max_depth=11)"
   ]
  },
  {
   "cell_type": "code",
   "execution_count": 9,
   "metadata": {},
   "outputs": [
    {
     "data": {
      "text/plain": [
       "RandomForestClassifier(bootstrap=True, class_weight=None, criterion='gini',\n",
       "            max_depth=11, max_features='auto', max_leaf_nodes=None,\n",
       "            min_impurity_decrease=0.0, min_impurity_split=None,\n",
       "            min_samples_leaf=1, min_samples_split=2,\n",
       "            min_weight_fraction_leaf=0.0, n_estimators=343, n_jobs=None,\n",
       "            oob_score=False, random_state=None, verbose=0,\n",
       "            warm_start=False)"
      ]
     },
     "execution_count": 9,
     "metadata": {},
     "output_type": "execute_result"
    }
   ],
   "source": [
    "model.fit(X1, Y1)"
   ]
  },
  {
   "cell_type": "code",
   "execution_count": 10,
   "metadata": {},
   "outputs": [
    {
     "data": {
      "text/plain": [
       "0.9034792368125701"
      ]
     },
     "execution_count": 10,
     "metadata": {},
     "output_type": "execute_result"
    }
   ],
   "source": [
    "predicted_train_tmp = model.predict(X1)\n",
    "accuracy_score(Y1, predicted_train_tmp)"
   ]
  },
  {
   "cell_type": "code",
   "execution_count": 11,
   "metadata": {},
   "outputs": [
    {
     "data": {
      "text/plain": [
       "0.8261045603799152"
      ]
     },
     "execution_count": 11,
     "metadata": {},
     "output_type": "execute_result"
    }
   ],
   "source": [
    "np.mean(cross_val_score(model, X1, Y1, cv=5))"
   ]
  },
  {
   "cell_type": "markdown",
   "metadata": {},
   "source": [
    "## Random Forest"
   ]
  },
  {
   "cell_type": "code",
   "execution_count": 12,
   "metadata": {},
   "outputs": [],
   "source": [
    "from sklearn.ensemble import RandomForestClassifier \n",
    "from sklearn.datasets import make_classification\n",
    "from sklearn.model_selection import cross_val_score\n",
    "from sklearn.model_selection import RandomizedSearchCV\n",
    "from scipy.stats import randint"
   ]
  },
  {
   "cell_type": "code",
   "execution_count": 13,
   "metadata": {},
   "outputs": [],
   "source": [
    "X2 = train_df.drop(columns=['Survived'])\n",
    "Y2 = train_df['Survived']"
   ]
  },
  {
   "cell_type": "code",
   "execution_count": 14,
   "metadata": {},
   "outputs": [],
   "source": [
    "X_train, X_test, Y_train, Y_test = train_test_split(X2, Y2, test_size=0.3)"
   ]
  },
  {
   "cell_type": "code",
   "execution_count": 15,
   "metadata": {},
   "outputs": [],
   "source": [
    "param_distributions = { \n",
    "    'n_estimators': randint(1,601),\n",
    "    'max_features': ['auto'],\n",
    "    'max_depth' : randint(1,51),\n",
    "    'criterion' :['gini', 'entropy']\n",
    "}"
   ]
  },
  {
   "cell_type": "code",
   "execution_count": 16,
   "metadata": {},
   "outputs": [],
   "source": [
    "model_forest = RandomForestClassifier(random_state=0)"
   ]
  },
  {
   "cell_type": "code",
   "execution_count": 17,
   "metadata": {},
   "outputs": [],
   "source": [
    "model_forest_grid = RandomizedSearchCV(estimator=model_forest, param_distributions=param_distributions,n_iter=100, cv= 5)"
   ]
  },
  {
   "cell_type": "code",
   "execution_count": 18,
   "metadata": {},
   "outputs": [
    {
     "data": {
      "text/plain": [
       "RandomizedSearchCV(cv=5, error_score='raise-deprecating',\n",
       "          estimator=RandomForestClassifier(bootstrap=True, class_weight=None, criterion='gini',\n",
       "            max_depth=None, max_features='auto', max_leaf_nodes=None,\n",
       "            min_impurity_decrease=0.0, min_impurity_split=None,\n",
       "            min_samples_leaf=1, min_samples_split=2,\n",
       "            min_weight_fraction_leaf=0.0, n_estimators='warn', n_jobs=None,\n",
       "            oob_score=False, random_state=0, verbose=0, warm_start=False),\n",
       "          fit_params=None, iid='warn', n_iter=100, n_jobs=None,\n",
       "          param_distributions={'n_estimators': <scipy.stats._distn_infrastructure.rv_frozen object at 0x000001A0CD5AF908>, 'max_features': ['auto'], 'max_depth': <scipy.stats._distn_infrastructure.rv_frozen object at 0x000001A0CD5AFA58>, 'criterion': ['gini', 'entropy']},\n",
       "          pre_dispatch='2*n_jobs', random_state=None, refit=True,\n",
       "          return_train_score='warn', scoring=None, verbose=0)"
      ]
     },
     "execution_count": 18,
     "metadata": {},
     "output_type": "execute_result"
    }
   ],
   "source": [
    "model_forest_grid.fit(X_train, Y_train)"
   ]
  },
  {
   "cell_type": "code",
   "execution_count": 19,
   "metadata": {},
   "outputs": [
    {
     "data": {
      "text/plain": [
       "{'criterion': 'entropy',\n",
       " 'max_depth': 12,\n",
       " 'max_features': 'auto',\n",
       " 'n_estimators': 85}"
      ]
     },
     "execution_count": 19,
     "metadata": {},
     "output_type": "execute_result"
    }
   ],
   "source": [
    "model_forest_grid.best_params_"
   ]
  },
  {
   "cell_type": "code",
   "execution_count": 20,
   "metadata": {},
   "outputs": [],
   "source": [
    "train_forest_predicted = model_forest_grid.predict(X_train)"
   ]
  },
  {
   "cell_type": "code",
   "execution_count": 21,
   "metadata": {},
   "outputs": [],
   "source": [
    "test_forest_predicted = model_forest_grid.predict(X_test)"
   ]
  },
  {
   "cell_type": "code",
   "execution_count": 22,
   "metadata": {},
   "outputs": [
    {
     "name": "stdout",
     "output_type": "stream",
     "text": [
      "Test Accuracy : 0.8395522388059702 %\n"
     ]
    }
   ],
   "source": [
    "print(\"Test Accuracy : \" + str(accuracy_score(Y_test, test_forest_predicted)) + \" %\")"
   ]
  },
  {
   "cell_type": "code",
   "execution_count": 23,
   "metadata": {},
   "outputs": [
    {
     "name": "stdout",
     "output_type": "stream",
     "text": [
      "Train Accuracy : 0.8250401284109149 %\n"
     ]
    }
   ],
   "source": [
    "print(\"Train Accuracy : \" + str(model_forest_grid.best_score_) + \" %\")"
   ]
  },
  {
   "cell_type": "code",
   "execution_count": 24,
   "metadata": {},
   "outputs": [
    {
     "data": {
      "text/plain": [
       "array([[159,  15],\n",
       "       [ 28,  66]], dtype=int64)"
      ]
     },
     "execution_count": 24,
     "metadata": {},
     "output_type": "execute_result"
    }
   ],
   "source": [
    "confusion_matrix(Y_test, test_forest_predicted)"
   ]
  },
  {
   "cell_type": "markdown",
   "metadata": {},
   "source": [
    "# Test"
   ]
  },
  {
   "cell_type": "code",
   "execution_count": 25,
   "metadata": {},
   "outputs": [],
   "source": [
    "raw_test_df = pd.read_csv('test.csv')"
   ]
  },
  {
   "cell_type": "code",
   "execution_count": 26,
   "metadata": {},
   "outputs": [
    {
     "name": "stderr",
     "output_type": "stream",
     "text": [
      "C:\\Users\\thomas\\AppData\\Local\\Continuum\\anaconda3\\envs\\majeure-ml-env\\lib\\site-packages\\ipykernel_launcher.py:69: SettingWithCopyWarning: \n",
      "A value is trying to be set on a copy of a slice from a DataFrame.\n",
      "Try using .loc[row_indexer,col_indexer] = value instead\n",
      "\n",
      "See the caveats in the documentation: http://pandas.pydata.org/pandas-docs/stable/indexing.html#indexing-view-versus-copy\n",
      "C:\\Users\\thomas\\AppData\\Local\\Continuum\\anaconda3\\envs\\majeure-ml-env\\lib\\site-packages\\ipykernel_launcher.py:86: SettingWithCopyWarning: \n",
      "A value is trying to be set on a copy of a slice from a DataFrame.\n",
      "Try using .loc[row_indexer,col_indexer] = value instead\n",
      "\n",
      "See the caveats in the documentation: http://pandas.pydata.org/pandas-docs/stable/indexing.html#indexing-view-versus-copy\n"
     ]
    }
   ],
   "source": [
    "test_df, _, _,_ = titanic_preparation(raw_test_df, means, scalers, ohe_columns)"
   ]
  },
  {
   "cell_type": "code",
   "execution_count": 27,
   "metadata": {},
   "outputs": [],
   "source": [
    "test_predicted = model_forest_grid.predict(test_df)"
   ]
  },
  {
   "cell_type": "code",
   "execution_count": 28,
   "metadata": {},
   "outputs": [],
   "source": [
    "submission_df = pd.concat([\n",
    "        raw_test_df[\"PassengerId\"], \n",
    "        pd.Series(test_predicted, name=\"Survived\")\n",
    "    ], axis=1)"
   ]
  },
  {
   "cell_type": "code",
   "execution_count": 29,
   "metadata": {},
   "outputs": [],
   "source": [
    "submission_df.to_csv(\"Submission_titanic.csv\", index=False)"
   ]
  },
  {
   "cell_type": "markdown",
   "metadata": {},
   "source": [
    "## Meilleur score"
   ]
  },
  {
   "cell_type": "markdown",
   "metadata": {},
   "source": [
    "{'criterion': 'entropy',\n",
    " 'max_depth': 12,\n",
    " 'max_features': 'auto',\n",
    " 'n_estimators': 85}"
   ]
  }
 ],
 "metadata": {
  "kernelspec": {
   "display_name": "Python 3",
   "language": "python",
   "name": "python3"
  },
  "language_info": {
   "codemirror_mode": {
    "name": "ipython",
    "version": 3
   },
   "file_extension": ".py",
   "mimetype": "text/x-python",
   "name": "python",
   "nbconvert_exporter": "python",
   "pygments_lexer": "ipython3",
   "version": "3.6.4"
  }
 },
 "nbformat": 4,
 "nbformat_minor": 2
}
